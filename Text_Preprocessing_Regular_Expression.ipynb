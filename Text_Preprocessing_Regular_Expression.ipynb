{
  "nbformat": 4,
  "nbformat_minor": 0,
  "metadata": {
    "colab": {
      "provenance": [],
      "authorship_tag": "ABX9TyO3jfdjpv6P5MGLQMPJR3qg",
      "include_colab_link": true
    },
    "kernelspec": {
      "name": "python3",
      "display_name": "Python 3"
    },
    "language_info": {
      "name": "python"
    }
  },
  "cells": [
    {
      "cell_type": "markdown",
      "metadata": {
        "id": "view-in-github",
        "colab_type": "text"
      },
      "source": [
        "<a href=\"https://colab.research.google.com/github/Rlackdals981010/NLP_STUDY_WITH_DL/blob/main/Text_Preprocessing_Regular_Expression.ipynb\" target=\"_parent\"><img src=\"https://colab.research.google.com/assets/colab-badge.svg\" alt=\"Open In Colab\"/></a>"
      ]
    },
    {
      "cell_type": "code",
      "execution_count": 1,
      "metadata": {
        "id": "K-uQXtFl4OvS"
      },
      "outputs": [],
      "source": [
        "#정규 표현식을 지원하는 파이썬 모듈 re\n",
        "import re"
      ]
    },
    {
      "cell_type": "code",
      "source": [
        "#re.함수\n",
        "re.compile()   #정규 표현식 컴파일. 파이썬에게 전하는 역할임\n",
        "re.search()    #문자열 전체에 대해 정규 표현식과 매치되는지 검색\n",
        "re.match()     #문자열 처음이 정규표현식과 매치되는지 검색\n",
        "re.split()     #정규 표현식을 기준으로 문자열을 분리하여 리스트로 분리\n",
        "re.findall()   #문자열에서 정규 표현식과 매치되는 모든 경우의 문자열을 찾아서 리스트로 리턴, 없으면 빈 리스트\n",
        "re.finditer()  #문자열에서 정규 표현식과 매치되는 모든 경우의 문자열에 대한 이터레이터(순환) 객체 리턴\n",
        "re.sub()       #문자열에서 정규 표현식과 일치하는 부분에 대해 다른 문자열로 대체"
      ],
      "metadata": {
        "id": "Q5aO4wQbO7ZY"
      },
      "execution_count": null,
      "outputs": []
    },
    {
      "cell_type": "code",
      "source": [
        "#기호\n",
        "## .기호. 한개의 임의의 문자를 나타냄\n",
        "r = re.compile(\"a.c\")\n",
        "r.search(\"kkk\") #정규 표현식에 맞지 않으니까 매치 안함 -> 출력되는게 아무것도 없음"
      ],
      "metadata": {
        "id": "rwYBD5P5Om3H"
      },
      "execution_count": 2,
      "outputs": []
    },
    {
      "cell_type": "code",
      "source": [
        "r.search(\"abc\") #정규 표현식에 매치되면 다음처럼 출력"
      ],
      "metadata": {
        "colab": {
          "base_uri": "https://localhost:8080/"
        },
        "id": "_uFXHhdthHLW",
        "outputId": "91e0e8ad-b537-442d-a3fb-0baef7028e93"
      },
      "execution_count": 3,
      "outputs": [
        {
          "output_type": "execute_result",
          "data": {
            "text/plain": [
              "<re.Match object; span=(0, 3), match='abc'>"
            ]
          },
          "metadata": {},
          "execution_count": 3
        }
      ]
    },
    {
      "cell_type": "code",
      "source": [
        "## ?기호. ?앞에 문자가 존재할수도. 안할수도 있음\n",
        "r = re.compile(\"ab?c\") #즉, abc, ac를 매치하는것\n",
        "r.search(\"abbc\")"
      ],
      "metadata": {
        "id": "AVzTygI9hI8v"
      },
      "execution_count": 5,
      "outputs": []
    },
    {
      "cell_type": "code",
      "source": [
        "r.search(\"abc\")"
      ],
      "metadata": {
        "colab": {
          "base_uri": "https://localhost:8080/"
        },
        "id": "OrcMV3nhhid8",
        "outputId": "86453a82-edd5-42b5-fd46-c9c413f3cfac"
      },
      "execution_count": 6,
      "outputs": [
        {
          "output_type": "execute_result",
          "data": {
            "text/plain": [
              "<re.Match object; span=(0, 3), match='abc'>"
            ]
          },
          "metadata": {},
          "execution_count": 6
        }
      ]
    },
    {
      "cell_type": "code",
      "source": [
        "r.search(\"ac\")"
      ],
      "metadata": {
        "colab": {
          "base_uri": "https://localhost:8080/"
        },
        "id": "jc9oBurPhmrj",
        "outputId": "bfa04a92-b485-4082-9ed9-21227383360e"
      },
      "execution_count": 8,
      "outputs": [
        {
          "output_type": "execute_result",
          "data": {
            "text/plain": [
              "<re.Match object; span=(0, 2), match='ac'>"
            ]
          },
          "metadata": {},
          "execution_count": 8
        }
      ]
    },
    {
      "cell_type": "code",
      "source": [
        "## *기호. 앞의 문자가 0개 이상\n",
        "r = re.compile(\"ab*c\")\n",
        "r.search(\"a\")"
      ],
      "metadata": {
        "id": "RXPMb-V9hnks"
      },
      "execution_count": 11,
      "outputs": []
    },
    {
      "cell_type": "code",
      "source": [
        "r.search(\"ac\")"
      ],
      "metadata": {
        "colab": {
          "base_uri": "https://localhost:8080/"
        },
        "id": "g443N0rQhwLI",
        "outputId": "e5b510ce-aefc-497c-be32-b84ab52e5849"
      },
      "execution_count": 13,
      "outputs": [
        {
          "output_type": "execute_result",
          "data": {
            "text/plain": [
              "<re.Match object; span=(0, 2), match='ac'>"
            ]
          },
          "metadata": {},
          "execution_count": 13
        }
      ]
    },
    {
      "cell_type": "code",
      "source": [
        "r.search(\"abbbbc\")"
      ],
      "metadata": {
        "colab": {
          "base_uri": "https://localhost:8080/"
        },
        "id": "EXDG09fdiF9V",
        "outputId": "b7869b30-040e-4da0-c4db-c6fc81df9e4e"
      },
      "execution_count": 16,
      "outputs": [
        {
          "output_type": "execute_result",
          "data": {
            "text/plain": [
              "<re.Match object; span=(0, 6), match='abbbbc'>"
            ]
          },
          "metadata": {},
          "execution_count": 16
        }
      ]
    },
    {
      "cell_type": "code",
      "source": [
        "## +기호. *과 유사하지만 앞의 문자가 1개 이상\n",
        "r = re.compile(\"ab+c\")\n",
        "r.search(\"ac\")"
      ],
      "metadata": {
        "id": "hqBEutoZh0de"
      },
      "execution_count": 14,
      "outputs": []
    },
    {
      "cell_type": "code",
      "source": [
        "r.search(\"abc\")"
      ],
      "metadata": {
        "colab": {
          "base_uri": "https://localhost:8080/"
        },
        "id": "mWOKqlwwiCPT",
        "outputId": "7024914f-2409-466e-b2d5-87fd606de871"
      },
      "execution_count": 15,
      "outputs": [
        {
          "output_type": "execute_result",
          "data": {
            "text/plain": [
              "<re.Match object; span=(0, 3), match='abc'>"
            ]
          },
          "metadata": {},
          "execution_count": 15
        }
      ]
    },
    {
      "cell_type": "code",
      "source": [
        "## ^기호. 시작되는 문자열을 지정.\n",
        "r = re.compile(\"^ab\")\n",
        "r.search(\"babc\")"
      ],
      "metadata": {
        "id": "StQ322jaiEPn"
      },
      "execution_count": 20,
      "outputs": []
    },
    {
      "cell_type": "code",
      "source": [
        "r.search(\"abbbbz\")"
      ],
      "metadata": {
        "colab": {
          "base_uri": "https://localhost:8080/"
        },
        "id": "0D-bYvS6iSGQ",
        "outputId": "9dd6a72c-3e49-4318-952a-273b5c40d55a"
      },
      "execution_count": 19,
      "outputs": [
        {
          "output_type": "execute_result",
          "data": {
            "text/plain": [
              "<re.Match object; span=(0, 2), match='ab'>"
            ]
          },
          "metadata": {},
          "execution_count": 19
        }
      ]
    },
    {
      "cell_type": "code",
      "source": [
        "## {숫자}기호. 해당 값을 숫자만큼 반복함을 나타냄\n",
        "r = re.compile(\"ab{2}c\")\n",
        "r.search(\"abc\")\n",
        "r.search(\"abbbc\")"
      ],
      "metadata": {
        "id": "Ipc9MbZXiTms"
      },
      "execution_count": 23,
      "outputs": []
    },
    {
      "cell_type": "code",
      "source": [
        "r.search(\"abbc\")"
      ],
      "metadata": {
        "colab": {
          "base_uri": "https://localhost:8080/"
        },
        "id": "GOP31btUihc3",
        "outputId": "2726288e-d6de-43ba-fd7d-fb4b2f3798e1"
      },
      "execution_count": 22,
      "outputs": [
        {
          "output_type": "execute_result",
          "data": {
            "text/plain": [
              "<re.Match object; span=(0, 4), match='abbc'>"
            ]
          },
          "metadata": {},
          "execution_count": 22
        }
      ]
    },
    {
      "cell_type": "code",
      "source": [
        "## {숫자1,숫자2}기호. 숫자1이상 2 이하만큼 반복함을 나타냄\n",
        "r = re.compile(\"ab{2,4}c\")\n",
        "r.search(\"abc\")\n",
        "r.search(\"abbbbbc\")"
      ],
      "metadata": {
        "id": "zM3Pwfc1iitu"
      },
      "execution_count": 24,
      "outputs": []
    },
    {
      "cell_type": "code",
      "source": [
        "r.search(\"abbbc\")"
      ],
      "metadata": {
        "colab": {
          "base_uri": "https://localhost:8080/"
        },
        "id": "hiMTzXxBiz9o",
        "outputId": "2e147a6f-e7a1-4dbe-a909-8f70c360a006"
      },
      "execution_count": 25,
      "outputs": [
        {
          "output_type": "execute_result",
          "data": {
            "text/plain": [
              "<re.Match object; span=(0, 5), match='abbbc'>"
            ]
          },
          "metadata": {},
          "execution_count": 25
        }
      ]
    },
    {
      "cell_type": "code",
      "source": [
        "r.search(\"abbbbc\")"
      ],
      "metadata": {
        "colab": {
          "base_uri": "https://localhost:8080/"
        },
        "id": "phoJKIu6i1go",
        "outputId": "e390ccbd-0773-42cb-9a5e-f0c33948bb06"
      },
      "execution_count": 27,
      "outputs": [
        {
          "output_type": "execute_result",
          "data": {
            "text/plain": [
              "<re.Match object; span=(0, 6), match='abbbbc'>"
            ]
          },
          "metadata": {},
          "execution_count": 27
        }
      ]
    },
    {
      "cell_type": "code",
      "source": [
        "## {숫자,}기호. 숫자 이상 반복함을 나타냄\n",
        "r = re.compile(\"ab{4,}c\")\n",
        "r.search(\"abbbc\")"
      ],
      "metadata": {
        "id": "pfLZ8pzki3Rf"
      },
      "execution_count": 29,
      "outputs": []
    },
    {
      "cell_type": "code",
      "source": [
        "r.search(\"abbbbbbbbc\")"
      ],
      "metadata": {
        "colab": {
          "base_uri": "https://localhost:8080/"
        },
        "id": "1Wg_7AmujEyW",
        "outputId": "fb2397aa-dfde-405d-ed52-13c15c50c0b0"
      },
      "execution_count": 31,
      "outputs": [
        {
          "output_type": "execute_result",
          "data": {
            "text/plain": [
              "<re.Match object; span=(0, 10), match='abbbbbbbbc'>"
            ]
          },
          "metadata": {},
          "execution_count": 31
        }
      ]
    },
    {
      "cell_type": "code",
      "source": [
        "## []기호. [문자들]이면 그 문자들 중 한개의 문자와 매치\n",
        "r = re.compile(\"[abc]\")\n",
        "r.search(\"zz\")"
      ],
      "metadata": {
        "id": "rDMjbaqGjIFK"
      },
      "execution_count": 32,
      "outputs": []
    },
    {
      "cell_type": "code",
      "source": [
        "r.search(\"a\")"
      ],
      "metadata": {
        "colab": {
          "base_uri": "https://localhost:8080/"
        },
        "id": "TlAKD4hjjT6H",
        "outputId": "e1c7dff7-dcb6-4c30-a390-63336aa5a456"
      },
      "execution_count": 33,
      "outputs": [
        {
          "output_type": "execute_result",
          "data": {
            "text/plain": [
              "<re.Match object; span=(0, 1), match='a'>"
            ]
          },
          "metadata": {},
          "execution_count": 33
        }
      ]
    },
    {
      "cell_type": "code",
      "source": [
        "r.search(\"bbbac\")"
      ],
      "metadata": {
        "colab": {
          "base_uri": "https://localhost:8080/"
        },
        "id": "IwrJW6NCjU4M",
        "outputId": "f2289e29-6f7a-4737-9cda-5de838c842f9"
      },
      "execution_count": 34,
      "outputs": [
        {
          "output_type": "execute_result",
          "data": {
            "text/plain": [
              "<re.Match object; span=(0, 1), match='b'>"
            ]
          },
          "metadata": {},
          "execution_count": 34
        }
      ]
    },
    {
      "cell_type": "code",
      "source": [
        "###바리에이션\n",
        "r = re.compile(\"[a-z]\") #[a-zA-Z]이건 알파벳 전체임\n",
        "r.search(\"g\")"
      ],
      "metadata": {
        "colab": {
          "base_uri": "https://localhost:8080/"
        },
        "id": "nUPRzapjjYcd",
        "outputId": "3889195e-75d2-4777-ca7b-6a5ca69597e9"
      },
      "execution_count": 35,
      "outputs": [
        {
          "output_type": "execute_result",
          "data": {
            "text/plain": [
              "<re.Match object; span=(0, 1), match='g'>"
            ]
          },
          "metadata": {},
          "execution_count": 35
        }
      ]
    },
    {
      "cell_type": "code",
      "source": [
        "r.search(\"G\")"
      ],
      "metadata": {
        "id": "oWGfvYIQjgun"
      },
      "execution_count": 36,
      "outputs": []
    },
    {
      "cell_type": "code",
      "source": [
        "# [^문자]기호. 해당 문자를 제외한 모든 문자를 매치\n",
        "r = re.compile(\"[^c]\")\n",
        "r.search(\"c\")"
      ],
      "metadata": {
        "id": "w1-A0HizjjMa"
      },
      "execution_count": 37,
      "outputs": []
    },
    {
      "cell_type": "code",
      "source": [
        "r.search(\"ab\")"
      ],
      "metadata": {
        "colab": {
          "base_uri": "https://localhost:8080/"
        },
        "id": "Y-6-DYYpjvvi",
        "outputId": "b46a4baf-35ab-4e06-e666-6090fcafe186"
      },
      "execution_count": 38,
      "outputs": [
        {
          "output_type": "execute_result",
          "data": {
            "text/plain": [
              "<re.Match object; span=(0, 1), match='a'>"
            ]
          },
          "metadata": {},
          "execution_count": 38
        }
      ]
    },
    {
      "cell_type": "code",
      "source": [
        "##############################\n",
        "#정규 표현식 함수\n",
        "##search vs match\n",
        "r = re.compile(\"ab.\")\n",
        "r.match(\"kkkabc\")"
      ],
      "metadata": {
        "id": "Jt82He-vjxFn"
      },
      "execution_count": 39,
      "outputs": []
    },
    {
      "cell_type": "code",
      "source": [
        "r.match(\"abckkk\")"
      ],
      "metadata": {
        "colab": {
          "base_uri": "https://localhost:8080/"
        },
        "id": "g6KLDbpCn3Jy",
        "outputId": "4e95a7a3-2413-42fd-f2d0-5a57085ac6c4"
      },
      "execution_count": 41,
      "outputs": [
        {
          "output_type": "execute_result",
          "data": {
            "text/plain": [
              "<re.Match object; span=(0, 3), match='abc'>"
            ]
          },
          "metadata": {},
          "execution_count": 41
        }
      ]
    },
    {
      "cell_type": "code",
      "source": [
        "r.search(\"kkkabc\")"
      ],
      "metadata": {
        "colab": {
          "base_uri": "https://localhost:8080/"
        },
        "id": "SCGzEnzWnsBI",
        "outputId": "e77e18f7-cced-4a55-afe7-158f18932653"
      },
      "execution_count": 40,
      "outputs": [
        {
          "output_type": "execute_result",
          "data": {
            "text/plain": [
              "<re.Match object; span=(3, 6), match='abc'>"
            ]
          },
          "metadata": {},
          "execution_count": 40
        }
      ]
    },
    {
      "cell_type": "markdown",
      "source": [
        "match는 문자열의 처음부터 매치되는지를 검색한다. 그래서 kkkabc는 반환이 없지만 abckkk는 앞이 ab.로 되기 때문에 반환.\n",
        "search는 문자열에 위치만 하면 되기 때문에 반환을 한다."
      ],
      "metadata": {
        "id": "qetOnrCknvAb"
      }
    },
    {
      "cell_type": "code",
      "source": [
        "## re.split() 정규 표현식을 기준으로 문자열들을 분리한다.\n",
        "text =\"사과 딸기 수박 메론 바나나\"\n",
        "re.split(\" \",text)"
      ],
      "metadata": {
        "colab": {
          "base_uri": "https://localhost:8080/"
        },
        "id": "oTBVhiyqntWN",
        "outputId": "348f1dcb-caa9-40ca-944f-00beea84895a"
      },
      "execution_count": 42,
      "outputs": [
        {
          "output_type": "execute_result",
          "data": {
            "text/plain": [
              "['사과', '딸기', '수박', '메론', '바나나']"
            ]
          },
          "metadata": {},
          "execution_count": 42
        }
      ]
    },
    {
      "cell_type": "code",
      "source": [
        "text =\"\"\"사과\n",
        "딸기\n",
        "수박\n",
        "메론\n",
        "바나나\"\"\"\n",
        "\n",
        "re.split(\"\\n\",text)"
      ],
      "metadata": {
        "colab": {
          "base_uri": "https://localhost:8080/"
        },
        "id": "-L9wBRFqoPNQ",
        "outputId": "83e6ac67-d705-4090-f62f-f2a6b3e618b0"
      },
      "execution_count": 43,
      "outputs": [
        {
          "output_type": "execute_result",
          "data": {
            "text/plain": [
              "['사과', '딸기', '수박', '메론', '바나나']"
            ]
          },
          "metadata": {},
          "execution_count": 43
        }
      ]
    },
    {
      "cell_type": "code",
      "source": [
        "text =\"사과+딸기+수박+메론+바나나\"\n",
        "re.split(\"\\+\",text)"
      ],
      "metadata": {
        "colab": {
          "base_uri": "https://localhost:8080/"
        },
        "id": "V-V40c9doYgp",
        "outputId": "cd8c0c5a-72c0-4657-e9e5-4d132aa94e21"
      },
      "execution_count": 45,
      "outputs": [
        {
          "output_type": "execute_result",
          "data": {
            "text/plain": [
              "['사과', '딸기', '수박', '메론', '바나나']"
            ]
          },
          "metadata": {},
          "execution_count": 45
        }
      ]
    },
    {
      "cell_type": "code",
      "source": [
        "## re.findall()는 정규 표현식과 매치되는 모든 문자열들을 리스트로 리턴한다. 없으면 ㅂ빈 리스트\n",
        "text = \"\"\"이름 : 김철수\n",
        "전화번호 : 010-1234-5678\n",
        "나이 : 27\n",
        "성별 : 남\"\"\"\n",
        "\n",
        "re.findall(\"\\d+\",text) #\\d는 모든 숫자를 의미함 [0-9]"
      ],
      "metadata": {
        "colab": {
          "base_uri": "https://localhost:8080/"
        },
        "id": "vj-bgwqgodIh",
        "outputId": "309b4f8a-3b9c-4b4d-b280-75d039395f9b"
      },
      "execution_count": 46,
      "outputs": [
        {
          "output_type": "execute_result",
          "data": {
            "text/plain": [
              "['010', '1234', '5678', '27']"
            ]
          },
          "metadata": {},
          "execution_count": 46
        }
      ]
    },
    {
      "cell_type": "code",
      "source": [
        "re.findall(\"d+\",\"오! 안녕하세요\")"
      ],
      "metadata": {
        "colab": {
          "base_uri": "https://localhost:8080/"
        },
        "id": "LD-8E1bTospA",
        "outputId": "12a25e52-bffb-462e-fe97-9d892c0d0c05"
      },
      "execution_count": 47,
      "outputs": [
        {
          "output_type": "execute_result",
          "data": {
            "text/plain": [
              "[]"
            ]
          },
          "metadata": {},
          "execution_count": 47
        }
      ]
    },
    {
      "cell_type": "code",
      "source": [
        "from os import path\n",
        "## re.sub()는 정규 표현식 패턴과 일치하는 문자열을 찾아 다른 문자열로 대체함\n",
        "\n",
        "text = \"Regular expression : A regular expression, regex or regexp[1] (sometimes called a rational expression)[2][3] is, in theoretical computer science and formal language theory, a sequence of characters that define a search pattern.\"\n",
        "preprocessed_text=re.sub('[^a-zA-Z]',' ',text) #알파벳이 아니면, 공백으로 바꿔라, 주어진 문장에 대해\n",
        "print(preprocessed_text)"
      ],
      "metadata": {
        "colab": {
          "base_uri": "https://localhost:8080/"
        },
        "id": "c3JzieGgo2fq",
        "outputId": "ed85c39d-d318-43f3-a7f2-f0ae0712261c"
      },
      "execution_count": 48,
      "outputs": [
        {
          "output_type": "stream",
          "name": "stdout",
          "text": [
            "Regular expression   A regular expression  regex or regexp     sometimes called a rational expression        is  in theoretical computer science and formal language theory  a sequence of characters that define a search pattern \n"
          ]
        }
      ]
    },
    {
      "cell_type": "code",
      "source": [
        "#예제\n",
        "text = \"\"\"100 John    PROF\n",
        "101 James   STUD\n",
        "102 Mac   STUD\"\"\""
      ],
      "metadata": {
        "id": "wApzTxJTpUQw"
      },
      "execution_count": 49,
      "outputs": []
    },
    {
      "cell_type": "code",
      "source": [
        "re.split(\"\\s+\",text) #\\s는 공백을 찾는 정규표현식  +는 최소 1개 이상의 패턴을 찾아낸다는 뜻. 즉, 최소 1개 이상의 공백"
      ],
      "metadata": {
        "colab": {
          "base_uri": "https://localhost:8080/"
        },
        "id": "EBMe9jiXpdp9",
        "outputId": "e1c8dd2f-087b-47f1-a0a4-c46cbacb1d06"
      },
      "execution_count": 50,
      "outputs": [
        {
          "output_type": "execute_result",
          "data": {
            "text/plain": [
              "['100', 'John', 'PROF', '101', 'James', 'STUD', '102', 'Mac', 'STUD']"
            ]
          },
          "metadata": {},
          "execution_count": 50
        }
      ]
    },
    {
      "cell_type": "code",
      "source": [
        "re.findall('\\d+',text) ##숫자가 최소 1개 이상인 문자열을 찾아라"
      ],
      "metadata": {
        "colab": {
          "base_uri": "https://localhost:8080/"
        },
        "id": "4loMCcrtpmq1",
        "outputId": "482cc9b9-0276-477b-af9d-a1ea171c3e51"
      },
      "execution_count": 51,
      "outputs": [
        {
          "output_type": "execute_result",
          "data": {
            "text/plain": [
              "['100', '101', '102']"
            ]
          },
          "metadata": {},
          "execution_count": 51
        }
      ]
    },
    {
      "cell_type": "code",
      "source": [
        "re.findall('[A-Z]',text) #모든 대문자를 가져와라"
      ],
      "metadata": {
        "colab": {
          "base_uri": "https://localhost:8080/"
        },
        "id": "K7EZ2UILpxAy",
        "outputId": "c785c265-9248-47c9-b50c-a953ced285ca"
      },
      "execution_count": 52,
      "outputs": [
        {
          "output_type": "execute_result",
          "data": {
            "text/plain": [
              "['J', 'P', 'R', 'O', 'F', 'J', 'S', 'T', 'U', 'D', 'M', 'S', 'T', 'U', 'D']"
            ]
          },
          "metadata": {},
          "execution_count": 52
        }
      ]
    },
    {
      "cell_type": "code",
      "source": [
        "re.findall('[A-Z]{4}',text) #대문자가 4번 등장하는거를 찾아라"
      ],
      "metadata": {
        "colab": {
          "base_uri": "https://localhost:8080/"
        },
        "id": "vGoUOb9Vp25G",
        "outputId": "345273d6-6e1a-45cb-b77e-4c4ec018f920"
      },
      "execution_count": 53,
      "outputs": [
        {
          "output_type": "execute_result",
          "data": {
            "text/plain": [
              "['PROF', 'STUD', 'STUD']"
            ]
          },
          "metadata": {},
          "execution_count": 53
        }
      ]
    },
    {
      "cell_type": "code",
      "source": [
        "re.findall('[A-Z][a-z]+',text) #처음만 대문자."
      ],
      "metadata": {
        "colab": {
          "base_uri": "https://localhost:8080/"
        },
        "id": "RUrQ72xXp_Nu",
        "outputId": "1589ca92-272d-43cd-f067-be1c9c567c8e"
      },
      "execution_count": 55,
      "outputs": [
        {
          "output_type": "execute_result",
          "data": {
            "text/plain": [
              "['John', 'James', 'Mac']"
            ]
          },
          "metadata": {},
          "execution_count": 55
        }
      ]
    },
    {
      "cell_type": "code",
      "source": [
        "#정규 표현식을 통한 토큰화\n",
        "from nltk.tokenize import RegexpTokenizer\n",
        "\n",
        "text = \"Don't be fooled by the dark sounding name, Mr. Jone's Orphanage is as cheery as cheery goes for a pastry shop\"\n",
        "tokenizer1=RegexpTokenizer(\"[\\w]+\") #문자 또는 숫자가 1개 이상인 경우를 토큰으로 해라\n",
        "tokenizer2=RegexpTokenizer(\"\\s+\",gaps=True) #공백을 기준으로 토큰화. gaps=true가 해당 정규표현식을 토큰으로 나누기위한 기준으로 사용한다는 의미. 안하면 공백만 뜸\n",
        "tokenizer3=RegexpTokenizer(\"\\s+\")\n",
        "\n",
        "print(tokenizer1.tokenize(text))\n",
        "print(tokenizer2.tokenize(text))\n",
        "print(tokenizer3.tokenize(text))"
      ],
      "metadata": {
        "colab": {
          "base_uri": "https://localhost:8080/"
        },
        "id": "yI3fWCUOqFgt",
        "outputId": "e5a4c9c2-2b20-4d2a-ef3c-225379d25ab3"
      },
      "execution_count": 58,
      "outputs": [
        {
          "output_type": "stream",
          "name": "stdout",
          "text": [
            "['Don', 't', 'be', 'fooled', 'by', 'the', 'dark', 'sounding', 'name', 'Mr', 'Jone', 's', 'Orphanage', 'is', 'as', 'cheery', 'as', 'cheery', 'goes', 'for', 'a', 'pastry', 'shop']\n",
            "[\"Don't\", 'be', 'fooled', 'by', 'the', 'dark', 'sounding', 'name,', 'Mr.', \"Jone's\", 'Orphanage', 'is', 'as', 'cheery', 'as', 'cheery', 'goes', 'for', 'a', 'pastry', 'shop']\n",
            "[' ', ' ', ' ', ' ', ' ', ' ', ' ', ' ', ' ', ' ', ' ', ' ', ' ', ' ', ' ', ' ', ' ', ' ', ' ', ' ']\n"
          ]
        }
      ]
    },
    {
      "cell_type": "code",
      "source": [],
      "metadata": {
        "id": "Whmvy_OPqunG"
      },
      "execution_count": null,
      "outputs": []
    }
  ]
}